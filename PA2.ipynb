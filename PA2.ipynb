{
 "cells": [
  {
   "cell_type": "markdown",
   "id": "0ad4a061-e013-4fa3-9dd9-756ebe30c4e3",
   "metadata": {},
   "source": [
    "# Normalized Problem\n"
   ]
  },
  {
   "cell_type": "code",
   "execution_count": 1,
   "id": "eae5c673-0adf-4b94-9108-1c9ecaff2ccd",
   "metadata": {},
   "outputs": [],
   "source": [
    "import numpy as np"
   ]
  },
  {
   "cell_type": "code",
   "execution_count": 2,
   "id": "20fc325a-0b64-4e25-a305-7a3ce8c0ce15",
   "metadata": {},
   "outputs": [],
   "source": [
    "X = np.random.rand(5, 5)"
   ]
  },
  {
   "cell_type": "code",
   "execution_count": 9,
   "id": "983d6b5c-6c79-4401-9fbb-b1ece4120943",
   "metadata": {},
   "outputs": [
    {
     "name": "stdout",
     "output_type": "stream",
     "text": [
      "Original Array (X):\n",
      " [[0.33038491 0.39797224 0.50359774 0.10127291 0.32711023]\n",
      " [0.45490659 0.07862785 0.62337251 0.56545698 0.49258608]\n",
      " [0.41049416 0.62599047 0.02121573 0.00273787 0.88126565]\n",
      " [0.53807701 0.58924098 0.14885806 0.43398607 0.57209035]\n",
      " [0.17116324 0.52335618 0.9936394  0.97701371 0.50585771]]\n",
      "\n",
      "Normalized Array (X_normalized):\n",
      " [[-0.45717297 -0.20059149  0.20039411 -1.32694983 -0.46960464]\n",
      " [ 0.01554814 -1.41291717  0.65509454  0.43523009  0.15859062]\n",
      " [-0.15305459  0.66503309 -1.63087056 -1.70101795  1.63413312]\n",
      " [ 0.33128761  0.52552117 -1.14630255 -0.06387236  0.46041232]\n",
      " [-1.06162548  0.27540299  2.0607371   1.99762104  0.20897365]]\n"
     ]
    }
   ],
   "source": [
    "# Compute the mean of the array X\n",
    "X_mean = X.mean()\n",
    "# Compute the standard deviation of the array X\n",
    "X_std = X.std()\n",
    "# Normalize X: subtract the mean and divide by the standard deviation\n",
    "\n",
    "# If you want X_norm as just a numpy array, remove the square brackets.\n",
    "X_norm = (X - X_mean) / X_std  \n",
    "# Save the normalized array to a file named 'X_normalized.npy'\n",
    "np.save('X_normalized.npy', X_norm)\n",
    "# Print the original array\n",
    "print(\"Original Array (X):\\n\", X)\n",
    "# Print the normalized array\n",
    "print(\"\\nNormalized Array (X_normalized):\\n\", X_norm)"
   ]
  },
  {
   "cell_type": "markdown",
   "id": "9b821992-3186-4c78-a11e-7b49e7c39d0a",
   "metadata": {},
   "source": [
    "# Divisible By 3 Problem"
   ]
  },
  {
   "cell_type": "code",
   "execution_count": 10,
   "id": "6738eb64-f42e-4d97-8a3a-0eb77a2b45df",
   "metadata": {},
   "outputs": [],
   "source": [
    "num = np.arange(1, 101)\n",
    "\n",
    "squares = num ** 2\n",
    "\n",
    "A = squares.reshape((10,10))\n",
    "\n",
    "div_by_3 = A[A % 3 == 0]\n",
    "\n",
    "np.save('div_by_3.npy', div_by_3)"
   ]
  },
  {
   "cell_type": "code",
   "execution_count": 12,
   "id": "6ace5e0f-211b-49b2-ad83-eeb0eda64d1d",
   "metadata": {},
   "outputs": [
    {
     "name": "stdout",
     "output_type": "stream",
     "text": [
      "Original 10x10 Array:\n",
      "\n",
      "[[    1     4     9    16    25    36    49    64    81   100]\n",
      " [  121   144   169   196   225   256   289   324   361   400]\n",
      " [  441   484   529   576   625   676   729   784   841   900]\n",
      " [  961  1024  1089  1156  1225  1296  1369  1444  1521  1600]\n",
      " [ 1681  1764  1849  1936  2025  2116  2209  2304  2401  2500]\n",
      " [ 2601  2704  2809  2916  3025  3136  3249  3364  3481  3600]\n",
      " [ 3721  3844  3969  4096  4225  4356  4489  4624  4761  4900]\n",
      " [ 5041  5184  5329  5476  5625  5776  5929  6084  6241  6400]\n",
      " [ 6561  6724  6889  7056  7225  7396  7569  7744  7921  8100]\n",
      " [ 8281  8464  8649  8836  9025  9216  9409  9604  9801 10000]]\n"
     ]
    }
   ],
   "source": [
    "print('Original 10x10 Array:\\n')\n",
    "print(A)"
   ]
  },
  {
   "cell_type": "code",
   "execution_count": 17,
   "id": "ee2630fc-2b38-458b-acb6-79fb9a45f9aa",
   "metadata": {},
   "outputs": [
    {
     "name": "stdout",
     "output_type": "stream",
     "text": [
      "Array of Squares Divisible by 3:\n",
      "\n",
      "[   9   36   81  144  225  324  441  576  729  900 1089 1296 1521 1764\n",
      " 2025 2304 2601 2916 3249 3600 3969 4356 4761 5184 5625 6084 6561 7056\n",
      " 7569 8100 8649 9216 9801]\n"
     ]
    }
   ],
   "source": [
    "print('Array of Squares Divisible by 3:\\n')\n",
    "print(div_by_3)"
   ]
  },
  {
   "cell_type": "code",
   "execution_count": null,
   "id": "ff7ad39e-e9d8-4b26-8fd7-b650a2652cef",
   "metadata": {},
   "outputs": [],
   "source": []
  }
 ],
 "metadata": {
  "kernelspec": {
   "display_name": "Python 3 (ipykernel)",
   "language": "python",
   "name": "python3"
  },
  "language_info": {
   "codemirror_mode": {
    "name": "ipython",
    "version": 3
   },
   "file_extension": ".py",
   "mimetype": "text/x-python",
   "name": "python",
   "nbconvert_exporter": "python",
   "pygments_lexer": "ipython3",
   "version": "3.13.5"
  }
 },
 "nbformat": 4,
 "nbformat_minor": 5
}
